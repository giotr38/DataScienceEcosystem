{
 "cells": [
  {
   "cell_type": "code",
   "execution_count": null,
   "id": "666fda15-aff2-4838-b0ee-478466a1765d",
   "metadata": {},
   "outputs": [],
   "source": [
    "# Data Science Tools and Ecosystem"
   ]
  },
  {
   "cell_type": "markdown",
   "id": "b388c21f-1492-4314-bc03-d5488b75ee29",
   "metadata": {},
   "source": [
    "## In this notebook, Data Science Tools and Ecosystem are summarized."
   ]
  },
  {
   "cell_type": "markdown",
   "id": "1ce4fbc0-667b-4cba-ab10-bc0ecf85b521",
   "metadata": {},
   "source": [
    "**Objectives:**\n",
    "\n",
    "- List popular languages in Data Science\n",
    "- List used libraries in Data Science\n",
    "- List Data Science tools\n",
    "- Some arithmetic examples\n"
   ]
  },
  {
   "cell_type": "code",
   "execution_count": null,
   "id": "563e11d6-d329-494b-b34c-c3015fabb01e",
   "metadata": {
    "tags": []
   },
   "outputs": [],
   "source": [
    "### Some of the popular languages that Data Scientists use are:\n",
    "1 Python   \n",
    "2 R        \n",
    "3 Julia    "
   ]
  },
  {
   "cell_type": "markdown",
   "id": "9108b5a5-7c30-4283-a3d2-f6c1e0b4abea",
   "metadata": {
    "jp-MarkdownHeadingCollapsed": true,
    "tags": []
   },
   "source": [
    "### Some of the commonly used libraries used by Data Scientists include:\n",
    "1 Pandas  \n",
    "2 ggplot2    \n",
    "3 Apache Spark "
   ]
  },
  {
   "cell_type": "markdown",
   "id": "89c83c3f-dc7e-4019-b4af-43494a5975dd",
   "metadata": {
    "tags": []
   },
   "source": [
    "| Data Science Tools |\n",
    "|--------------------|\n",
    "| GitHub |\n",
    "| RStudio |\n",
    "| Jupyter |"
   ]
  },
  {
   "cell_type": "markdown",
   "id": "f3f281b7-da2b-4066-96cb-3827dae6eb0c",
   "metadata": {},
   "source": [
    "### Below are a few examples of evaluating arithmetic expressions in Python\n"
   ]
  },
  {
   "cell_type": "code",
   "execution_count": 6,
   "id": "8d1f2f7d-15c3-4df2-9b2f-21d8242c77e7",
   "metadata": {
    "tags": []
   },
   "outputs": [
    {
     "data": {
      "text/plain": [
       "17"
      ]
     },
     "execution_count": 6,
     "metadata": {},
     "output_type": "execute_result"
    }
   ],
   "source": [
    "# This a simple arithmetic expression to multiply then add integers\n",
    "\n",
    "(3*4)+5"
   ]
  },
  {
   "cell_type": "code",
   "execution_count": 7,
   "id": "29ca1435-0284-4a3f-af02-f3b3b7b0e6d0",
   "metadata": {
    "tags": []
   },
   "outputs": [
    {
     "data": {
      "text/plain": [
       "3.3333333333333335"
      ]
     },
     "execution_count": 7,
     "metadata": {},
     "output_type": "execute_result"
    }
   ],
   "source": [
    "# This will convert 200 minutes to hours by diving by 60\n",
    "\n",
    "200/60"
   ]
  },
  {
   "cell_type": "markdown",
   "id": "bc613c5b-0991-4cf3-9fe6-9577962949f0",
   "metadata": {},
   "source": [
    "## Author\n",
    "Giovanni Trani"
   ]
  }
 ],
 "metadata": {
  "kernelspec": {
   "display_name": "Python",
   "language": "python",
   "name": "conda-env-python-py"
  },
  "language_info": {
   "codemirror_mode": {
    "name": "ipython",
    "version": 3
   },
   "file_extension": ".py",
   "mimetype": "text/x-python",
   "name": "python",
   "nbconvert_exporter": "python",
   "pygments_lexer": "ipython3",
   "version": "3.7.12"
  }
 },
 "nbformat": 4,
 "nbformat_minor": 5
}
